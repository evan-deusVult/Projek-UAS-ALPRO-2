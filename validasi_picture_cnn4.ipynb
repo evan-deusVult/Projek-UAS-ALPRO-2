{
 "cells": [
  {
   "cell_type": "code",
   "execution_count": 1,
   "metadata": {},
   "outputs": [],
   "source": [
    "import os\n",
    "import cv2\n",
    "import numpy as np\n",
    "from sklearn.model_selection import train_test_split\n",
    "from tensorflow.keras.models import Sequential\n",
    "from tensorflow.keras.layers import Conv2D, MaxPooling2D, Flatten, Dense, Dropout"
   ]
  },
  {
   "cell_type": "code",
   "execution_count": 2,
   "metadata": {},
   "outputs": [],
   "source": [
    "def preprocess_images(directory, label, image_size=256):\n",
    "    \"\"\"\n",
    "    Fungsi untuk memuat gambar dari folder dan melakukan preprocessing.\n",
    "    \"\"\"\n",
    "    images = []\n",
    "    labels = []\n",
    "    for file_name in os.listdir(directory):\n",
    "        file_path = os.path.join(directory, file_name)\n",
    "        image = cv2.imread(file_path, cv2.IMREAD_GRAYSCALE) \n",
    "        if image is not None:\n",
    "            image = cv2.resize(image, (image_size, image_size))  \n",
    "            image = image.astype('float32') / 255.0 \n",
    "            images.append(image)\n",
    "            labels.append(label)  \n",
    "    return np.array(images), np.array(labels)"
   ]
  },
  {
   "cell_type": "code",
   "execution_count": 3,
   "metadata": {},
   "outputs": [],
   "source": [
    "rontgen_dir = \"E:\\\\tugas semester 3\\\\Alpro 2\\\\tugas akhir\\\\dataset\\\\chest_xray\"  \n",
    "random_dir = \"E:\\\\tugas semester 3\\\\Alpro 2\\\\tugas akhir\\\\dataset\\\\gambar_random_512\"  "
   ]
  },
  {
   "cell_type": "code",
   "execution_count": 4,
   "metadata": {},
   "outputs": [],
   "source": [
    "rontgen_images, rontgen_labels = preprocess_images(rontgen_dir, label=1)\n",
    "random_images, random_labels = preprocess_images(random_dir, label=0)\n",
    "\n"
   ]
  },
  {
   "cell_type": "code",
   "execution_count": 5,
   "metadata": {},
   "outputs": [],
   "source": [
    "all_images = np.concatenate((rontgen_images, random_images), axis=0)\n",
    "all_labels = np.concatenate((rontgen_labels, random_labels), axis=0)\n",
    "\n",
    "all_images = np.expand_dims(all_images, axis=-1)\n",
    "\n",
    "X_train, X_test, y_train, y_test = train_test_split(all_images, all_labels, test_size=0.2, random_state=42)"
   ]
  },
  {
   "cell_type": "code",
   "execution_count": 6,
   "metadata": {},
   "outputs": [],
   "source": [
    "model_validasi = Sequential([\n",
    "    Conv2D(32, (3, 3), activation='relu', input_shape=(256, 256, 1)),\n",
    "    MaxPooling2D(pool_size=(2, 2)),\n",
    "    Conv2D(64, (3, 3), activation='relu'),\n",
    "    MaxPooling2D(pool_size=(2, 2)),\n",
    "    Conv2D(128, (3, 3), activation='relu'),\n",
    "    MaxPooling2D(pool_size=(2, 2)),\n",
    "    Flatten(),\n",
    "    Dense(128, activation='relu'),\n",
    "    Dropout(0.5),\n",
    "    Dense(1, activation='sigmoid')\n",
    "])"
   ]
  },
  {
   "cell_type": "code",
   "execution_count": 7,
   "metadata": {},
   "outputs": [],
   "source": [
    "model_validasi.compile(optimizer='adam', loss='binary_crossentropy', metrics=['accuracy'])"
   ]
  },
  {
   "cell_type": "code",
   "execution_count": 8,
   "metadata": {},
   "outputs": [
    {
     "name": "stdout",
     "output_type": "stream",
     "text": [
      "Epoch 1/10\n",
      "50/50 [==============================] - 34s 667ms/step - loss: 0.2471 - accuracy: 0.9086 - val_loss: 0.1728 - val_accuracy: 0.9600\n",
      "Epoch 2/10\n",
      "50/50 [==============================] - 32s 640ms/step - loss: 0.0888 - accuracy: 0.9837 - val_loss: 0.0355 - val_accuracy: 0.9900\n",
      "Epoch 3/10\n",
      "50/50 [==============================] - 38s 760ms/step - loss: 0.0573 - accuracy: 0.9850 - val_loss: 0.0211 - val_accuracy: 0.9950\n",
      "Epoch 4/10\n",
      "50/50 [==============================] - 33s 664ms/step - loss: 0.0246 - accuracy: 0.9912 - val_loss: 0.0361 - val_accuracy: 0.9900\n",
      "Epoch 5/10\n",
      "50/50 [==============================] - 33s 670ms/step - loss: 0.0176 - accuracy: 0.9950 - val_loss: 0.0335 - val_accuracy: 0.9850\n",
      "Epoch 6/10\n",
      "50/50 [==============================] - 32s 634ms/step - loss: 0.0154 - accuracy: 0.9925 - val_loss: 0.0095 - val_accuracy: 0.9950\n",
      "Epoch 7/10\n",
      "50/50 [==============================] - 32s 631ms/step - loss: 0.0077 - accuracy: 0.9962 - val_loss: 0.0126 - val_accuracy: 0.9950\n",
      "Epoch 8/10\n",
      "50/50 [==============================] - 33s 659ms/step - loss: 0.0131 - accuracy: 0.9950 - val_loss: 0.0242 - val_accuracy: 0.9950\n",
      "Epoch 9/10\n",
      "50/50 [==============================] - 33s 655ms/step - loss: 0.0096 - accuracy: 0.9975 - val_loss: 0.0298 - val_accuracy: 0.9900\n",
      "Epoch 10/10\n",
      "50/50 [==============================] - 34s 684ms/step - loss: 0.0026 - accuracy: 1.0000 - val_loss: 0.0361 - val_accuracy: 0.9850\n"
     ]
    }
   ],
   "source": [
    "history = model_validasi.fit(X_train, y_train, epochs=10, batch_size=16, validation_data=(X_test, y_test))"
   ]
  },
  {
   "cell_type": "code",
   "execution_count": 9,
   "metadata": {},
   "outputs": [
    {
     "name": "stdout",
     "output_type": "stream",
     "text": [
      "7/7 [==============================] - 2s 241ms/step - loss: 0.0361 - accuracy: 0.9850\n",
      "Test Loss: 0.0361, Test Accuracy: 0.9850\n"
     ]
    }
   ],
   "source": [
    "test_loss, test_accuracy = model_validasi.evaluate(X_test, y_test)\n",
    "print(f\"Test Loss: {test_loss:.4f}, Test Accuracy: {test_accuracy:.4f}\")"
   ]
  },
  {
   "cell_type": "code",
   "execution_count": 10,
   "metadata": {},
   "outputs": [
    {
     "name": "stderr",
     "output_type": "stream",
     "text": [
      "c:\\Users\\MSI_PC\\anaconda3\\lib\\site-packages\\keras\\src\\engine\\training.py:3000: UserWarning: You are saving your model as an HDF5 file via `model.save()`. This file format is considered legacy. We recommend using instead the native Keras format, e.g. `model.save('my_model.keras')`.\n",
      "  saving_api.save_model(\n"
     ]
    }
   ],
   "source": [
    "model_validasi.save(\"model_validasi_(2.13.1).h5\")"
   ]
  }
 ],
 "metadata": {
  "kernelspec": {
   "display_name": "base",
   "language": "python",
   "name": "python3"
  },
  "language_info": {
   "codemirror_mode": {
    "name": "ipython",
    "version": 3
   },
   "file_extension": ".py",
   "mimetype": "text/x-python",
   "name": "python",
   "nbconvert_exporter": "python",
   "pygments_lexer": "ipython3",
   "version": "3.10.11"
  }
 },
 "nbformat": 4,
 "nbformat_minor": 2
}
